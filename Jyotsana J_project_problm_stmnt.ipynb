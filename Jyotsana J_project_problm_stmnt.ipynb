{
 "cells": [
  {
   "cell_type": "code",
   "execution_count": null,
   "id": "563a6fc8-d268-4bfe-948f-5133c3357ce2",
   "metadata": {},
   "outputs": [],
   "source": [
    "Null and alternate hypothesis are as follows:\n",
    "H0 : Mu = 25\n",
    "H1 : Mu <>25"
   ]
  },
  {
   "cell_type": "code",
   "execution_count": null,
   "id": "d4893f18-106d-430c-9bb5-d8de16f45431",
   "metadata": {},
   "outputs": [],
   "source": [
    "Here ⍺ = 0.01"
   ]
  },
  {
   "cell_type": "code",
   "execution_count": 12,
   "id": "e1a693b0-e67e-4939-a409-ab36499e696d",
   "metadata": {},
   "outputs": [],
   "source": [
    "import pandas as pd \n",
    "import numpy as np\n",
    "import matplotlib.pyplot as plt\n",
    "from warnings import filterwarnings\n",
    "filterwarnings('ignore')\n",
    "import random\n",
    "import statistics\n",
    "from scipy import stats\n",
    "from statsmodels.stats import weightstats as stests\n",
    "from scipy.stats import shapiro\n",
    "from statsmodels.stats import power"
   ]
  },
  {
   "cell_type": "code",
   "execution_count": 20,
   "id": "3456a44d-d2a2-4eff-a50d-a447dd56b6b8",
   "metadata": {},
   "outputs": [
    {
     "name": "stdout",
     "output_type": "stream",
     "text": [
      "Critical value for two-tailed Z-test: 2.58\n"
     ]
    }
   ],
   "source": [
    "z_val = np.abs(round(stats.norm.isf(q = 0.01/2), 2))\n",
    "print('Critical value for two-tailed Z-test:', z_val)"
   ]
  },
  {
   "cell_type": "code",
   "execution_count": 32,
   "id": "7b824a14-7260-41ad-8576-f4b78a1d3236",
   "metadata": {},
   "outputs": [
    {
     "name": "stdout",
     "output_type": "stream",
     "text": [
      "Z-score: -2.6832815729997477\n"
     ]
    }
   ],
   "source": [
    "def z_test(pop_mean, pop_std, n, samp_mean):\n",
    "    z_score = (samp_mean - pop_mean) / (pop_std / np.sqrt(n))\n",
    "    return z_score\n",
    "\n",
    "n = 45\n",
    "pop_mean = 25\n",
    "pop_std = 2.5\n",
    "samp_mean = 24\n",
    "\n",
    "z_score = z_test(pop_mean, pop_std, n, samp_mean)\n",
    "print(\"Z-score:\", z_score)"
   ]
  },
  {
   "cell_type": "code",
   "execution_count": 34,
   "id": "8d356c61-f4ae-4b3c-8a6a-3c4a56b4c4e3",
   "metadata": {},
   "outputs": [
    {
     "name": "stdout",
     "output_type": "stream",
     "text": [
      "p-value: 0.007290358091535638\n"
     ]
    }
   ],
   "source": [
    "p_value = stats.norm.cdf(z_score)\n",
    "req_p = p_value*2\n",
    "print('p-value:', req_p)"
   ]
  },
  {
   "cell_type": "code",
   "execution_count": 10,
   "id": "22058240-cbae-436e-8fdb-c13ee43b1327",
   "metadata": {},
   "outputs": [
    {
     "name": "stdout",
     "output_type": "stream",
     "text": [
      "Confidence interval: (23.040045096471452, 24.959954903528548)\n"
     ]
    }
   ],
   "source": [
    "print('Confidence interval:', stats.norm.interval(0.99, loc = samp_mean, scale = pop_std / np.sqrt(n)))"
   ]
  },
  {
   "cell_type": "code",
   "execution_count": null,
   "id": "ab8621d7-0aa2-4b41-b7db-9325a25c8d19",
   "metadata": {},
   "outputs": [],
   "source": [
    "-->Here the z-score is less than 2.58 and also the Confidence interval does not contain the value in null hypothesis.\n",
    "-->The p value is less than alpha(0.01)\n",
    "Hence we reject the null hypothesis.\n",
    "Thus there are enough evidence to claim that the mean mileage is different from 25kmph."
   ]
  }
 ],
 "metadata": {
  "kernelspec": {
   "display_name": "Python 3 (ipykernel)",
   "language": "python",
   "name": "python3"
  },
  "language_info": {
   "codemirror_mode": {
    "name": "ipython",
    "version": 3
   },
   "file_extension": ".py",
   "mimetype": "text/x-python",
   "name": "python",
   "nbconvert_exporter": "python",
   "pygments_lexer": "ipython3",
   "version": "3.12.2"
  }
 },
 "nbformat": 4,
 "nbformat_minor": 5
}
